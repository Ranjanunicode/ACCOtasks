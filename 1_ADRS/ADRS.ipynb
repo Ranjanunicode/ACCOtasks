{
 "cells": [
  {
   "cell_type": "code",
   "execution_count": null,
   "metadata": {},
   "outputs": [],
   "source": [
    "# import requests\n",
    "# import json"
   ]
  },
  {
   "cell_type": "markdown",
   "metadata": {},
   "source": [
    "1. Fetch Data from Rest API"
   ]
  },
  {
   "cell_type": "code",
   "execution_count": 2,
   "metadata": {},
   "outputs": [
    {
     "name": "stdout",
     "output_type": "stream",
     "text": [
      "{'books': [{'title': 'The Diary of a Young Girl', 'author': 'Anne Frank'}, {'title': 'The Book Thief', 'author': 'Markus Zusak'}, {'title': 'All the Light We Cannot See', 'author': 'Anthony Doerr'}, {'title': 'The Guns of Navarone', 'author': 'Alistair MacLean'}, {'title': 'Catch-22', 'author': 'Joseph Heller'}, {'title': \"Schindler's List\", 'author': 'Thomas Keneally'}, {'title': 'Band of Brothers', 'author': 'Stephen E. Ambrose'}, {'title': 'The Longest Day', 'author': 'Cornelius Ryan'}, {'title': 'The Rise and Fall of the Third Reich', 'author': 'William L. Shirer'}, {'title': 'Unbroken', 'author': 'Laura Hillenbrand'}], 'size': 10}\n"
     ]
    }
   ],
   "source": [
    "import requests\n",
    "\n",
    "url = \"https://freebooks-api2.p.rapidapi.com/aiBookSearch\"\n",
    "\n",
    "payload = { \"message\": \"Suggest books on World war 2\" }\n",
    "headers = {\n",
    "\t\"content-type\": \"application/json\",\n",
    "\t\"X-RapidAPI-Key\": \"e92c7db7ecmsh2f2339b617d9fb8p170841jsne2a2a54482cc\",\n",
    "\t\"X-RapidAPI-Host\": \"freebooks-api2.p.rapidapi.com\"\n",
    "}\n",
    "\n",
    "response = requests.post(url, json=payload, headers=headers)\n",
    "\n",
    "print(response.json())"
   ]
  },
  {
   "cell_type": "code",
   "execution_count": 9,
   "metadata": {},
   "outputs": [],
   "source": [
    "import json"
   ]
  },
  {
   "cell_type": "code",
   "execution_count": 17,
   "metadata": {},
   "outputs": [
    {
     "name": "stdout",
     "output_type": "stream",
     "text": [
      "{'title': 'The Diary of a Young Girl', 'author': 'Anne Frank'}\n"
     ]
    }
   ],
   "source": [
    "data = response.json()\n",
    "books = data[\"books\"]\n",
    "# print(books[0][\"title\"])\n",
    "print(books[0])\n"
   ]
  },
  {
   "cell_type": "markdown",
   "metadata": {},
   "source": [
    "Database"
   ]
  },
  {
   "cell_type": "code",
   "execution_count": 15,
   "metadata": {},
   "outputs": [],
   "source": [
    "import sqlite3\n",
    "con = sqlite3.connect(\"books.db\")"
   ]
  },
  {
   "cell_type": "code",
   "execution_count": 16,
   "metadata": {},
   "outputs": [],
   "source": [
    "cur = con.cursor()"
   ]
  },
  {
   "cell_type": "markdown",
   "metadata": {},
   "source": [
    "create db books"
   ]
  },
  {
   "cell_type": "code",
   "execution_count": 18,
   "metadata": {},
   "outputs": [
    {
     "data": {
      "text/plain": [
       "<sqlite3.Cursor at 0x1ccd821e490>"
      ]
     },
     "execution_count": 18,
     "metadata": {},
     "output_type": "execute_result"
    }
   ],
   "source": [
    "cur.execute(\"CREATE TABLE books(title, author)\")"
   ]
  },
  {
   "cell_type": "code",
   "execution_count": 19,
   "metadata": {},
   "outputs": [
    {
     "data": {
      "text/plain": [
       "('books',)"
      ]
     },
     "execution_count": 19,
     "metadata": {},
     "output_type": "execute_result"
    }
   ],
   "source": [
    "res = cur.execute(\"SELECT name FROM sqlite_master\")\n",
    "res.fetchone()"
   ]
  },
  {
   "cell_type": "code",
   "execution_count": 20,
   "metadata": {},
   "outputs": [
    {
     "data": {
      "text/plain": [
       "True"
      ]
     },
     "execution_count": 20,
     "metadata": {},
     "output_type": "execute_result"
    }
   ],
   "source": [
    "res = cur.execute(\"SELECT name FROM sqlite_master WHERE name='spam'\")\n",
    "res.fetchone() is None"
   ]
  },
  {
   "cell_type": "code",
   "execution_count": 64,
   "metadata": {},
   "outputs": [
    {
     "name": "stdout",
     "output_type": "stream",
     "text": [
      "[('The Diary of a Young Girl', 'Anne Frank'), ('The Book Thief', 'Markus Zusak'), ('All the Light We Cannot See', 'Anthony Doerr'), ('The Guns of Navarone', 'Alistair MacLean'), ('Catch-22', 'Joseph Heller'), (\"Schindler's List\", 'Thomas Keneally'), ('Band of Brothers', 'Stephen E. Ambrose'), ('The Longest Day', 'Cornelius Ryan'), ('The Rise and Fall of the Third Reich', 'William L. Shirer'), ('Unbroken', 'Laura Hillenbrand')]\n"
     ]
    }
   ],
   "source": [
    "# btitle, bauthor =  books[0][\"title\"], books[0][\"author\"]\n",
    "\n",
    "# print(btitle, bauthor)\n",
    "btitle = []\n",
    "# bauthor = []\n",
    "\n",
    "for i in range(len(books)):\n",
    "    # btitle, bauthor =  books[i][\"title\"], books[i][\"author\"]\n",
    "    btitle.append((books[i][\"title\"], books[i][\"author\"]))\n",
    "    # bauthor.append(books[i][\"author\"])\n",
    "\n",
    "# print(btitle, bauthor)\n",
    "print(btitle)\n",
    "\n",
    "# print(len(books))"
   ]
  },
  {
   "cell_type": "code",
   "execution_count": 44,
   "metadata": {},
   "outputs": [],
   "source": [
    "# print(values)\n",
    "# values = [btitle, bauthor]"
   ]
  },
  {
   "cell_type": "markdown",
   "metadata": {},
   "source": [
    "2. Storing Response Data in a local sqlite database."
   ]
  },
  {
   "cell_type": "code",
   "execution_count": 65,
   "metadata": {},
   "outputs": [
    {
     "data": {
      "text/plain": [
       "<sqlite3.Cursor at 0x1ccd821e490>"
      ]
     },
     "execution_count": 65,
     "metadata": {},
     "output_type": "execute_result"
    }
   ],
   "source": [
    "cur.executemany(\"INSERT INTO books VALUES(?, ?)\", btitle)\n",
    "# cur.executemany(\"INSERT INTO books VALUES(?, ?)\", [(btitle),(bauthor)])\n",
    "# cur.execute(\"\"\"\n",
    "#     INSERT INTO books VALUES\n",
    "#         ('The Diary of a Young Girl', \"Anne Frank\")\n",
    "# \"\"\")"
   ]
  },
  {
   "cell_type": "code",
   "execution_count": 66,
   "metadata": {},
   "outputs": [],
   "source": [
    "con.commit()"
   ]
  },
  {
   "cell_type": "markdown",
   "metadata": {},
   "source": [
    "3. Display the data from the database."
   ]
  },
  {
   "cell_type": "code",
   "execution_count": 91,
   "metadata": {},
   "outputs": [
    {
     "name": "stdout",
     "output_type": "stream",
     "text": [
      "1 Title : The Diary of a Young Girl  Author : Anne Frank\n",
      "2 Title : The Diary of a Young Girl  Author : Anne Frank\n",
      "3 Title : The Book Thief  Author : Markus Zusak\n",
      "4 Title : All the Light We Cannot See  Author : Anthony Doerr\n",
      "5 Title : The Guns of Navarone  Author : Alistair MacLean\n",
      "6 Title : Catch-22  Author : Joseph Heller\n",
      "7 Title : Schindler's List  Author : Thomas Keneally\n",
      "8 Title : Band of Brothers  Author : Stephen E. Ambrose\n",
      "9 Title : The Longest Day  Author : Cornelius Ryan\n",
      "10 Title : The Rise and Fall of the Third Reich  Author : William L. Shirer\n"
     ]
    }
   ],
   "source": [
    "res = cur.execute(\"SELECT title, author FROM books\")\n",
    "# title, author = res.fetchall()\n",
    "# title, author = res.fetchone()\n",
    "details = res.fetchall()\n",
    "details = details[:-1]\n",
    "# print(details)\n",
    "for i in range(len(details)):\n",
    "        print(f\"{i+1} Title : {details[i][0]}  Author : {details[i][1]}\")"
   ]
  }
 ],
 "metadata": {
  "kernelspec": {
   "display_name": "base",
   "language": "python",
   "name": "python3"
  },
  "language_info": {
   "codemirror_mode": {
    "name": "ipython",
    "version": 3
   },
   "file_extension": ".py",
   "mimetype": "text/x-python",
   "name": "python",
   "nbconvert_exporter": "python",
   "pygments_lexer": "ipython3",
   "version": "3.7.16"
  },
  "orig_nbformat": 4
 },
 "nbformat": 4,
 "nbformat_minor": 2
}
