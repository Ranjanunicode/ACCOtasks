{
 "cells": [
  {
   "cell_type": "markdown",
   "metadata": {},
   "source": [
    "Data Processing and Visualization (DPV)"
   ]
  },
  {
   "cell_type": "markdown",
   "metadata": {},
   "source": [
    "1. Fetch the data from an API"
   ]
  },
  {
   "cell_type": "code",
   "execution_count": 50,
   "metadata": {},
   "outputs": [
    {
     "name": "stdout",
     "output_type": "stream",
     "text": [
      "{'students': [{'Computer Science': 50, 'English': 66, 'Maths': 45, 'Science': 57, 'name': 'student1'}, {'Computer Science': 70, 'English': 66, 'Maths': 76, 'Science': 87, 'name': 'student2'}, {'Computer Science': 90, 'English': 86, 'Maths': 96, 'Science': 97, 'name': 'student3'}]}\n"
     ]
    }
   ],
   "source": [
    "import requests\n",
    "\n",
    "url = \"http://127.0.0.1:5000/score\"\n",
    "\n",
    "response = requests.get(url)\n",
    "\n",
    "print(response.json())"
   ]
  },
  {
   "cell_type": "markdown",
   "metadata": {},
   "source": [
    "2. Calculate Average Scores"
   ]
  },
  {
   "cell_type": "code",
   "execution_count": 51,
   "metadata": {},
   "outputs": [],
   "source": [
    "# print(data[\"students\"][0][\"name\"])\n",
    "data = response.json()\n",
    "score = data[\"students\"]\n",
    "\n",
    "maths, Sce, Eng, Cs = 0,0,0,0\n",
    "\n",
    "for i in range(len(score)):\n",
    "    maths += score[i][\"Maths\"]\n",
    "    Sce += score[i][\"Science\"]\n",
    "    Eng += score[i][\"English\"]\n",
    "    Cs += score[i][\"Computer Science\"]\n",
    "\n",
    "\n",
    "# print(f\"Average Scores Maths : {maths/len(score)}, Average Scores Science : {Sce/len(score)} \")\n",
    "avgMaths, avgSce, avgEng, avgCs = maths/len(score), Sce/len(score), Eng/len(score), Cs/len(score)\n"
   ]
  },
  {
   "cell_type": "markdown",
   "metadata": {},
   "source": [
    "d. Create a bar chart to visualize the data."
   ]
  },
  {
   "cell_type": "code",
   "execution_count": 29,
   "metadata": {},
   "outputs": [],
   "source": [
    "import matplotlib.pyplot as plt"
   ]
  },
  {
   "cell_type": "code",
   "execution_count": 57,
   "metadata": {},
   "outputs": [
    {
     "data": {
      "text/plain": [
       "<BarContainer object of 4 artists>"
      ]
     },
     "execution_count": 57,
     "metadata": {},
     "output_type": "execute_result"
    },
    {
     "data": {
      "image/png": "[encoded data removed]",
      "text/plain": [
       "<Figure size 720x504 with 1 Axes>"
      ]
     },
     "metadata": {
      "needs_background": "light"
     },
     "output_type": "display_data"
    }
   ],
   "source": [
    "subjects = [\"Maths\",\"Science\",\"English\",\"Computer\"]\n",
    "avgscores = [avgMaths, avgSce, avgEng, avgCs]\n",
    "plt.subplots(figsize =(10, 7))\n",
    "plt.bar(subjects,avgscores,edgecolor ='grey', label ='ECE')\n"
   ]
  },
  {
   "cell_type": "markdown",
   "metadata": {},
   "source": [
    "Sample data"
   ]
  },
  {
   "cell_type": "code",
   "execution_count": 33,
   "metadata": {},
   "outputs": [],
   "source": [
    "# data = {\n",
    "#     \"students\":[{\n",
    "#         \"name\": \"student1\",\n",
    "#         \"Maths\": 45,\n",
    "#         \"Science\": 57,\n",
    "#         \"English\": 66,\n",
    "#         \"Computer Science\": 50,\n",
    "\n",
    "#     },{\n",
    "#         \"name\": \"student2\",\n",
    "#         \"Maths\": 76,\n",
    "#         \"Science\": 87,\n",
    "#         \"English\": 66,\n",
    "#         \"Computer Science\": 70,\n",
    "\n",
    "#     },{\n",
    "#         \"name\": \"student3\",\n",
    "#         \"Maths\": 96,\n",
    "#         \"Science\": 97,\n",
    "#         \"English\": 86,\n",
    "#         \"Computer Science\": 90,\n",
    "\n",
    "#     },\n",
    "#     ]\n",
    "# }"
   ]
  }
 ],
 "metadata": {
  "kernelspec": {
   "display_name": "base",
   "language": "python",
   "name": "python3"
  },
  "language_info": {
   "codemirror_mode": {
    "name": "ipython",
    "version": 3
   },
   "file_extension": ".py",
   "mimetype": "text/x-python",
   "name": "python",
   "nbconvert_exporter": "python",
   "pygments_lexer": "ipython3",
   "version": "3.7.16"
  },
  "orig_nbformat": 4
 },
 "nbformat": 4,
 "nbformat_minor": 2
}
